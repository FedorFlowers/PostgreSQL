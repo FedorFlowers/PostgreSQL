{
 "cells": [
  {
   "cell_type": "markdown",
   "id": "53691249-3b2a-4676-9daf-67fad3b93080",
   "metadata": {},
   "source": [
    "##### Задача 1.\n",
    "Посчитайте, сколько компаний закрылось."
   ]
  },
  {
   "cell_type": "markdown",
   "id": "4c687a10-3bb7-4e93-88f0-375dbc1353e9",
   "metadata": {},
   "source": [
    "```sql\n",
    "SELECT COUNT (status)\n",
    "FROM company\n",
    "WHERE status = 'closed'\n",
    "```"
   ]
  },
  {
   "cell_type": "markdown",
   "id": "7bf3f30c-3fd9-4ddb-ae8e-da342a27fc04",
   "metadata": {},
   "source": [
    "##### Задача 2.\n",
    "Отобразите количество привлечённых средств для новостных компаний США. Используйте данные из таблицы company. Отсортируйте таблицу по убыванию значений в поле `funding_total`."
   ]
  },
  {
   "cell_type": "markdown",
   "id": "3baa387a-fafb-4845-82fa-698f7879a30b",
   "metadata": {},
   "source": [
    "```sql\n",
    "SELECT funding_total\n",
    "FROM company\n",
    "WHERE category_code = 'news' AND country_code = 'USA'\n",
    "ORDER BY funding_total DESC\n",
    "```"
   ]
  },
  {
   "cell_type": "markdown",
   "id": "46cc7569-a30e-4710-a8a4-46ea83ac89ea",
   "metadata": {},
   "source": [
    "##### Задача 3.\n",
    "Найдите общую сумму сделок по покупке одних компаний другими в долларах. Отберите сделки, которые осуществлялись только за наличные с 2011 по 2013 год включительно."
   ]
  },
  {
   "cell_type": "markdown",
   "id": "8af97fef-3db4-41fa-a7bb-3dde5ca49b46",
   "metadata": {},
   "source": [
    "```sql\n",
    "SELECT SUM(price_amount)\n",
    "FROM acquisition\n",
    "WHERE term_code = 'cash' \n",
    "AND EXTRACT (YEAR FROM CAST(acquired_at AS date)) BETWEEN 2011 AND 2013\n",
    "```"
   ]
  },
  {
   "cell_type": "markdown",
   "id": "a899721f-a193-4c16-87e9-f77ee58077ad",
   "metadata": {},
   "source": [
    "##### Задача 4.\n",
    "Отобразите имя, фамилию и названия аккаунтов людей в поле network_username, у которых названия аккаунтов начинаются на `'Silver'`."
   ]
  },
  {
   "cell_type": "markdown",
   "id": "28a0b8df-849a-446b-bef1-6dc5c0e874ba",
   "metadata": {},
   "source": [
    "```sql\n",
    "SELECT first_name, \r\n",
    "       last_name, \r\n",
    "       twitter_username\r\n",
    "FROM people\r\n",
    "WHERE twitter_username LIKE 'Silver%'\n",
    "```"
   ]
  },
  {
   "cell_type": "markdown",
   "id": "992b9f54-16e9-429d-becf-47d2e2088099",
   "metadata": {},
   "source": [
    "##### Задача 5.\n",
    "Выведите на экран всю информацию о людях, у которых названия аккаунтов в поле network_username содержат подстроку `'money'`, а фамилия начинается на `'K'`."
   ]
  },
  {
   "cell_type": "markdown",
   "id": "a7493818-27d2-4af7-9c6f-bcbcbdd4f9c3",
   "metadata": {},
   "source": [
    "```sql\n",
    "SELECT *\r\n",
    "FROM people\r\n",
    "WHERE twitter_username LIKE '%money%'\r\n",
    "AND last_name LIKE 'K%'\n",
    "```"
   ]
  },
  {
   "cell_type": "markdown",
   "id": "4d6b2e48-8850-4808-b344-4ddc43d2a6e3",
   "metadata": {},
   "source": [
    "##### Задача 6.\r\n",
    "Для каждой страны отобразите общую сумму привлечённых инвестиций, которые получили компании, зарегистрированные в этой стране. Страну, в которой зарегистрирована компания, можно определить по коду страны. Отсортируйте данные по убыванию суммы."
   ]
  },
  {
   "cell_type": "markdown",
   "id": "ec3e96b7-71ad-441f-9767-be83d30d1c25",
   "metadata": {},
   "source": [
    "```sql\n",
    "SELECT country_code, \r\n",
    "       SUM(funding_total)\r\n",
    "FROM company\r\n",
    "GROUP BY country_code\r\n",
    "ORDER BY SUM(funding_total) DESC\n",
    "```"
   ]
  },
  {
   "cell_type": "markdown",
   "id": "9ed38973-378f-45df-b127-8c6add9e0ae4",
   "metadata": {},
   "source": [
    "##### Задача 7.\n",
    "Составьте таблицу, в которую войдёт дата проведения раунда, а также минимальное и максимальное значения суммы инвестиций, привлечённых в эту дату.\r\n",
    "Оставьте в итоговой таблице только те записи, в которых минимальное значение суммы инвестиций не равно нулю и не равно максимальному значению."
   ]
  },
  {
   "cell_type": "markdown",
   "id": "487a3e09-e291-4728-9c44-ade6fa397f71",
   "metadata": {},
   "source": [
    "```sql\n",
    "SELECT funded_at, \r\n",
    "       MIN(raised_amount), \r\n",
    "       MAX(raised_amount)\r\n",
    "FROM funding_round\r\n",
    "GROUP BY funded_at\r\n",
    "HAVING MIN(raised_amount) != 0 AND MIN(raised_amount) != MAX(raised_amount)\n",
    "```"
   ]
  },
  {
   "cell_type": "markdown",
   "id": "146bdfe7-e082-4e46-a6c7-8b6284946b94",
   "metadata": {},
   "source": [
    "##### Задача 8.\n",
    "Создайте поле с категориями:\n",
    "- Для фондов, которые инвестируют в 100 и более компаний, назначьте категорию `high_activity`.\n",
    "- Для фондов, которые инвестируют в 20 и более компаний до 100, назначьте категорию `middle_activity`.\n",
    "- Если количество инвестируемых компаний фонда не достигает 20, назначьте категорию `low_activity`.\n",
    "\n",
    "Отобразите все поля таблицы fund и новое поле с категориями."
   ]
  },
  {
   "cell_type": "markdown",
   "id": "5624f210-b9d3-46f2-801f-8dbb42ef5086",
   "metadata": {},
   "source": [
    "```sql\n",
    "SELECT *,\r\n",
    "      CASE\r\n",
    "           WHEN invested_companies < 20 THEN 'low_activity'\r\n",
    "           WHEN invested_companies < 100 THEN 'middle_activity'\r\n",
    "           WHEN invested_companies >= 100 THEN 'high_activity'\r\n",
    "       END\r\n",
    "FROM fund\n",
    "```"
   ]
  },
  {
   "cell_type": "markdown",
   "id": "fd56c836-1734-43c8-b2c2-27c8f7639cec",
   "metadata": {},
   "source": [
    "##### Задача 9.\n",
    "Для каждой из категорий, назначенных в предыдущем задании, посчитайте округлённое до ближайшего целого числа среднее количество инвестиционных раундов, в которых фонд принимал участие. Выведите на экран категории и среднее число инвестиционных раундов. Отсортируйте таблицу по возрастанию среднего."
   ]
  },
  {
   "cell_type": "markdown",
   "id": "085ea4b1-c414-495b-8817-7a34298f8496",
   "metadata": {},
   "source": [
    "```sql\n",
    "SELECT \r\n",
    "CASE\r\n",
    "   WHEN invested_companies>=100 THEN 'high_activity'\r\n",
    "   WHEN invested_companies>=20 THEN 'middle_activity'\r\n",
    "   ELSE 'low_activity'\r\n",
    "END AS activity,\r\n",
    "ROUND(AVG(investment_rounds))\r\n",
    "FROM fund\r\n",
    "GROUP BY activity\r\n",
    "ORDER BY ROUND(AVG(investment_rounds));\n",
    "```"
   ]
  },
  {
   "cell_type": "markdown",
   "id": "85f72e50-7205-4f35-bf39-a26028eb9fed",
   "metadata": {},
   "source": [
    "##### Задача 10.\n",
    "Проанализируйте, в каких странах находятся фонды, которые чаще всего инвестируют в стартапы. \n",
    "\r\n",
    "Для каждой страны посчитайте минимальное, максимальное и среднее число компаний, в которые инвестировали фонды этой страны, основанные с 2010 по 2012 год включительно. Исключите страны с фондами, у которых минимальное число компаний, получивших инвестиции, равно нулю.\n",
    " \r\n",
    "Выгрузите десять самых активных стран-инвесторов: отсортируйте таблицу по среднему количеству компаний от большего к меньшему. Затем добавьте сортировку по коду страны в лексикографическом порядке."
   ]
  },
  {
   "cell_type": "markdown",
   "id": "6d74ba35-bd63-4eea-9245-ca098bf2adc9",
   "metadata": {},
   "source": [
    "```sql\n",
    "SELECT country_code, \n",
    "       MIN(invested_companies),\n",
    "       MAX(invested_companies),\n",
    "       AVG(invested_companies)\n",
    "FROM fund\n",
    "WHERE EXTRACT(YEAR FROM CAST(founded_at AS date)) BETWEEN 2010 AND 2012\n",
    "GROUP BY country_code\n",
    "HAVING MIN(invested_companies) > 0\n",
    "ORDER BY AVG(invested_companies) DESC, country_code\n",
    "LIMIT 10\n",
    "```"
   ]
  },
  {
   "cell_type": "markdown",
   "id": "b95cfecd-52bb-4ea5-8af5-5da8fa0fa126",
   "metadata": {},
   "source": [
    "##### Задача 11.\n",
    "Отобразите имя и фамилию всех сотрудников стартапов. Добавьте поле с названием учебного заведения, которое окончил сотрудник, если эта информация известна."
   ]
  },
  {
   "cell_type": "markdown",
   "id": "a9c79954-5159-4650-9e2c-6c253f23707f",
   "metadata": {},
   "source": [
    "```sql\n",
    "SELECT first_name, last_name, instituition\r\n",
    "FROM people\r\n",
    "LEFT JOIN education ON people.id = education.person_id\n",
    "```"
   ]
  },
  {
   "cell_type": "markdown",
   "id": "a48463ee-003a-4719-a5ef-26a44088cc33",
   "metadata": {},
   "source": [
    "##### Задача 12.\r\n",
    "Для каждой компании найдите количество учебных заведений, которые окончили её сотрудники. Выведите название компании и число уникальных названий учебных заведений. Составьте топ-5 компаний по количеству университетов."
   ]
  },
  {
   "cell_type": "markdown",
   "id": "cdae67ab-6d05-46de-9776-f088928ec430",
   "metadata": {},
   "source": [
    "```sql\n",
    "SELECT company.name,\r",
    "       \n",
    "COUNT(DISTINCT(instituition))\r\n",
    "FROM company\r\n",
    "LEFT JOIN people ON company.id = people.company_id\r\n",
    "LEFT JOIN education ON people.id = education.person_id\r\n",
    "GROUP BY company.id\r\n",
    "ORDER BY COUNT(DISTINCT(instituition)) DESC\r\n",
    "LIMIT 5\n",
    "```"
   ]
  },
  {
   "cell_type": "markdown",
   "id": "7b8f727c-0b6f-487d-b8e9-2d91e8091aad",
   "metadata": {},
   "source": [
    "##### Задача 13.\n",
    "Составьте список с уникальными названиями закрытых компаний, для которых первый раунд финансирования оказался последним."
   ]
  },
  {
   "cell_type": "markdown",
   "id": "6e345d26-d9c5-441e-bdb9-5e1364100f3f",
   "metadata": {},
   "source": [
    "```sql\n",
    "SELECT DISTINCT(company.name)\r\n",
    "FROM funding_round\r\n",
    "LEFT JOIN company ON company.id = funding_round.company_id\r\n",
    "WHERE is_first_round = 1 AND is_last_round = 1\r\n",
    "AND company.status LIKE 'closed'\n",
    "```"
   ]
  },
  {
   "cell_type": "markdown",
   "id": "f54795e2-05d9-40fd-bb00-e95f1e26d454",
   "metadata": {},
   "source": [
    "##### Задача 14.\n",
    "Составьте список уникальных номеров сотрудников, которые работают в компаниях, отобранных в предыдущем задании."
   ]
  },
  {
   "cell_type": "markdown",
   "id": "fb889cf0-e7b1-4ef5-a28c-123c4411be4e",
   "metadata": {},
   "source": [
    "```sql\n",
    "WITH org AS (\n",
    "SELECT DISTINCT(company.id)\n",
    "FROM funding_round\n",
    "LEFT JOIN company ON company.id = funding_round.company_id\n",
    "WHERE is_first_round = 1 AND is_last_round = 1\n",
    "AND company.status LIKE 'closed'\n",
    ")\n",
    "\n",
    "SELECT DISTINCT(people.id)\n",
    "FROM people\n",
    "WHERE people.company_id IN (SELECT * FROM org)\n",
    "```"
   ]
  },
  {
   "cell_type": "markdown",
   "id": "855aa75b-50e4-4bb6-b178-8326d9ba1b81",
   "metadata": {},
   "source": [
    "##### Задача 15.\n",
    "Составьте таблицу, куда войдут уникальные пары с номерами сотрудников из предыдущей задачи и учебным заведением, которое окончил сотрудник."
   ]
  },
  {
   "cell_type": "markdown",
   "id": "442f24c5-4872-4e0a-a5da-e376dda74722",
   "metadata": {},
   "source": [
    "```sql\n",
    "WITH org AS (\n",
    "SELECT DISTINCT(company.id)\n",
    "FROM funding_round\n",
    "LEFT JOIN company ON company.id = funding_round.company_id\n",
    "WHERE is_first_round = 1 AND is_last_round = 1\n",
    "AND company.status LIKE 'closed'\n",
    "),\n",
    "\n",
    "p_id AS(\n",
    "SELECT DISTINCT(people.id)\n",
    "FROM people\n",
    "WHERE people.company_id IN (SELECT * FROM org)\n",
    ")    \n",
    "\n",
    "SELECT person_id, instituition\n",
    "FROM education\n",
    "WHERE person_id IN (SELECT * FROM p_id)\n",
    "UNION\n",
    "SELECT person_id, instituition\n",
    "FROM education\n",
    "WHERE person_id IN (SELECT * FROM p_id)\n",
    "```"
   ]
  },
  {
   "cell_type": "markdown",
   "id": "05fb8328-ab11-43a8-8745-2baa493077bc",
   "metadata": {},
   "source": [
    "##### Задача 16.\n",
    "Посчитайте количество учебных заведений для каждого сотрудника из предыдущего задания. При подсчёте учитывайте, что некоторые сотрудники могли окончить одно и то же заведение дважды."
   ]
  },
  {
   "cell_type": "markdown",
   "id": "3d7a2ce4-7ee3-4e1c-b77a-41fdc3f249b7",
   "metadata": {},
   "source": [
    "```sql\n",
    "WITH org AS (\n",
    "SELECT DISTINCT(company.id)\n",
    "FROM funding_round\n",
    "LEFT JOIN company ON company.id = funding_round.company_id\n",
    "WHERE is_first_round = 1 AND is_last_round = 1\n",
    "AND company.status LIKE 'closed'\n",
    "),\n",
    "\n",
    "p_id AS (\n",
    "SELECT DISTINCT(people.id)\n",
    "FROM people\n",
    "WHERE people.company_id IN (SELECT * FROM org)\n",
    ")\n",
    "\n",
    "SELECT person_id, COUNT(instituition)\n",
    "FROM education\n",
    "WHERE person_id IN (SELECT * FROM p_id)\n",
    "GROUP BY person_id\n",
    "```"
   ]
  },
  {
   "cell_type": "markdown",
   "id": "e241dce4-7503-4f5b-9ff6-5898237da089",
   "metadata": {},
   "source": [
    "##### Задача 17.\n",
    "Дополните предыдущий запрос и выведите среднее число учебных заведений (всех, не только уникальных), которые окончили сотрудники разных компаний. Нужно вывести только одну запись, группировка здесь не понадобится."
   ]
  },
  {
   "cell_type": "markdown",
   "id": "da394b10-4adb-4cf9-b6c4-c8b6d8249f82",
   "metadata": {},
   "source": [
    "```sql\n",
    "WITH org AS (\n",
    "SELECT DISTINCT(company.id)\n",
    "FROM funding_round\n",
    "LEFT JOIN company ON company.id = funding_round.company_id\n",
    "WHERE is_first_round = 1 AND is_last_round = 1\n",
    "AND company.status LIKE 'closed'\n",
    "),\n",
    "\n",
    "p_id AS (\n",
    "SELECT DISTINCT(people.id)\n",
    "FROM people\n",
    "WHERE people.company_id IN (SELECT * FROM org)\n",
    ")\n",
    "\n",
    "SELECT AVG(count)\n",
    "FROM(\n",
    "SELECT person_id, COUNT(instituition)\n",
    "FROM education\n",
    "WHERE person_id IN (SELECT * FROM p_id)\n",
    "GROUP BY person_id) AS tab\n",
    "```"
   ]
  },
  {
   "cell_type": "markdown",
   "id": "cdddeb88-9669-4a55-b2cb-93c6388b2774",
   "metadata": {},
   "source": [
    "##### Задача 18.\n",
    "Напишите похожий запрос: выведите среднее число учебных заведений (всех, не только уникальных), которые окончили сотрудники Facebook*.\n",
    "\r\n",
    "*(сервис, запрещённый на территории РФ)"
   ]
  },
  {
   "cell_type": "markdown",
   "id": "d4848e3e-46e4-4f94-aee1-7bcdb41b90eb",
   "metadata": {},
   "source": [
    "```sql\n",
    "WITH org AS (\n",
    "SELECT DISTINCT(company.id)\n",
    "FROM funding_round\n",
    "LEFT JOIN company ON company.id = funding_round.company_id\n",
    "WHERE company.name LIKE 'Facebook'\n",
    "),\n",
    "    \n",
    "p_id AS\n",
    "(\n",
    "SELECT DISTINCT(people.id)\n",
    "FROM people\n",
    "WHERE people.company_id IN (SELECT * FROM org)\n",
    ")\n",
    "\n",
    "SELECT AVG(count)\n",
    "FROM\n",
    "(\n",
    "SELECT person_id, COUNT(instituition)\n",
    "FROM education\n",
    "WHERE person_id IN (SELECT * FROM p_id)\n",
    "GROUP BY person_id\n",
    ") AS tab\n",
    "```"
   ]
  },
  {
   "cell_type": "markdown",
   "id": "0f22a402-7777-4fdb-a353-1191721ab4ee",
   "metadata": {},
   "source": [
    "##### Задача 19.\n",
    "\n",
    "Составьте таблицу из полей:\n",
    "\n",
    "- `name_of_fund` — название фонда;\n",
    "- `name_of_company` — название компании;\n",
    "- `amount` — сумма инвестиций, которую привлекла компания в раунде.\n",
    "\n",
    "В таблицу войдут данные о компаниях, в истории которых было больше шести важных этапов, а раунды финансирования проходили с 2012 по 2013 год включительно."
   ]
  },
  {
   "cell_type": "markdown",
   "id": "ec25a6a8-aae2-40f2-8c7b-0850de4226e8",
   "metadata": {},
   "source": [
    "```sql\n",
    "SELECT f.name AS name_of_fund,\r\n",
    "       com.name AS name_of_company,\r\n",
    "       fr.raised_amount AS amount\r\n",
    "FROM investment AS i\r\n",
    "INNER JOIN company AS com ON i.company_id=com.id\r\n",
    "INNER JOIN fund AS f ON i.fund_id=f.id\r\n",
    "INNER JOIN funding_round AS fr ON i.funding_round_id=fr.id\r\n",
    "WHERE com.milestones > 6\r\n",
    "   AND EXTRACT(YEAR FROM CAST (fr.funded_at AS TIMESTAMP)) BETWEEN 2012 AND 2013\n",
    "```"
   ]
  },
  {
   "cell_type": "markdown",
   "id": "a86b8890-73e6-490f-9e32-6615e65f1f06",
   "metadata": {},
   "source": [
    "##### Задача 20.\n",
    "\n",
    "Выгрузите таблицу, в которой будут такие поля:\n",
    "\n",
    "- название компании-покупателя;\n",
    "- сумма сделки;\n",
    "- название компании, которую купили;\n",
    "- сумма инвестиций, вложенных в купленную компанию;\n",
    "- доля, которая отображает, во сколько раз сумма покупки превысила сумму вложенных в компанию инвестиций, округлённая до ближайшего целого числа.\n",
    "\n",
    "Не учитывайте те сделки, в которых сумма покупки равна нулю. Если сумма инвестиций в компанию равна нулю, исключите такую компанию из таблицы. \n",
    "Отсортируйте таблицу по сумме сделки от большей к меньшей, а затем по названию купленной компании в лексикографическом порядке. Ограничьте таблицу первыми десятью записями."
   ]
  },
  {
   "cell_type": "markdown",
   "id": "7feff702-50c7-48b6-833b-62c933fc69c1",
   "metadata": {},
   "source": [
    "```sql\n",
    "SELECT c_acquiring.name, \r\n",
    "       acquisition.price_amount, \r\n",
    "       c_acquired.name,     \r\n",
    "       c_acquired.funding_total, \r\n",
    "       ROUND(acquisition.price_amount/c_acquired.funding_total)\r\n",
    "FROM acquisition\r\n",
    "LEFT JOIN company AS c_acquiring ON c_acquiring.id = acquisition.acquiring_company_id\r\n",
    "LEFT JOIN company AS c_acquired ON c_acquired.id = acquisition.acquired_company_id\r\n",
    "WHERE acquisition.price_amount > 0 AND c_acquired.funding_total > 0\r\n",
    "ORDER BY acquisition.price_amount DESC, c_acquired.name\r\n",
    "LIMIT 10\n",
    "```"
   ]
  },
  {
   "cell_type": "markdown",
   "id": "0a822869-de7b-4933-9990-d09f9bda554c",
   "metadata": {},
   "source": [
    "##### Задача 21.\n",
    "Выгрузите таблицу, в которую войдут названия компаний из категории `social`, получившие финансирование с 2010 по 2013 год включительно. Проверьте, что сумма инвестиций не равна нулю. Выведите также номер месяца, в котором проходил раунд финансирования."
   ]
  },
  {
   "cell_type": "markdown",
   "id": "0591e0f7-9f76-4405-8334-0b00c552f49d",
   "metadata": {},
   "source": [
    "```sql\n",
    "SELECT company.name, \r\n",
    "EXTRACT(MONTH FROM CAST(funding_round.funded_at AS date))\r\n",
    "FROM company\r\n",
    "LEFT JOIN funding_round ON  company.id = funding_round.company_id\r\n",
    "WHERE company.category_code LIKE 'social'\r\n",
    "AND EXTRACT(YEAR FROM CAST(funding_round.funded_at AS date)) BETWEEN 2010 AND 2013\r\n",
    "AND funding_round.raised_amount > 0\n",
    "```"
   ]
  },
  {
   "cell_type": "markdown",
   "id": "373ddc78-cb58-4a25-8773-0571350a4f1e",
   "metadata": {},
   "source": [
    "##### Задача 22.\n",
    "Отберите данные по месяцам с 2010 по 2013 год, когда проходили инвестиционные раунды. Сгруппируйте данные по номеру месяца и получите таблицу, в которой будут поля:\n",
    "\n",
    "- номер месяца, в котором проходили раунды;\n",
    "- количество уникальных названий фондов из США, которые инвестировали в этом месяце;\n",
    "- количество компаний, купленных за этот месяц;\n",
    "- общая сумма сделок по покупкам в этом месяце."
   ]
  },
  {
   "cell_type": "markdown",
   "id": "acc79db4-4944-4f54-9964-486ceba6d144",
   "metadata": {},
   "source": [
    "```sql\n",
    "\n",
    "```"
   ]
  },
  {
   "cell_type": "markdown",
   "id": "95b47dc2-ad3c-4f81-908f-1d4b549e1691",
   "metadata": {},
   "source": [
    "##### Задача 23.\n",
    "Посчитайте, сколько компаний закрылось."
   ]
  },
  {
   "cell_type": "markdown",
   "id": "60d5981b-63d3-43c9-804b-c6618cd754dc",
   "metadata": {},
   "source": [
    "```sql\n",
    "\n",
    "```"
   ]
  }
 ],
 "metadata": {
  "kernelspec": {
   "display_name": "anaconda-panel-2023.05-py310",
   "language": "python",
   "name": "conda-env-anaconda-panel-2023.05-py310-py"
  },
  "language_info": {
   "codemirror_mode": {
    "name": "ipython",
    "version": 3
   },
   "file_extension": ".py",
   "mimetype": "text/x-python",
   "name": "python",
   "nbconvert_exporter": "python",
   "pygments_lexer": "ipython3",
   "version": "3.11.5"
  }
 },
 "nbformat": 4,
 "nbformat_minor": 5
}
